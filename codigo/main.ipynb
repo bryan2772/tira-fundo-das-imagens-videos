{
 "cells": [
  {
   "cell_type": "code",
   "execution_count": 28,
   "metadata": {},
   "outputs": [],
   "source": [
    "# Importando as bibliotecas necessárias\n",
    "import cv2\n",
    "import numpy as np\n",
    "import os\n"
   ]
  },
  {
   "cell_type": "code",
   "execution_count": 29,
   "metadata": {},
   "outputs": [],
   "source": [
    "\n",
    "# Diretórios de entrada e saída\n",
    "input_dir = \"/mnt/nvme1n1p2/doc/Faculdade-BCC/BCC-8º periodo/jesga/trabalho1/ImagensPDI\"  # Diretório das imagens de entrada\n",
    "output_dir = 'resultados/'  # Diretório para salvar as imagens processadas\n"
   ]
  },
  {
   "cell_type": "code",
   "execution_count": 30,
   "metadata": {},
   "outputs": [],
   "source": [
    "\n",
    "# Função para remover fundo\n",
    "def remover_fundo(imagem):\n",
    "    # Passo 1: Converter a imagem para escala de cinza\n",
    "    gray = cv2.cvtColor(imagem, cv2.COLOR_BGR2GRAY)\n",
    "    \n",
    "    # Passo 2: Aplicar suavização para reduzir ruído\n",
    "    blur = cv2.GaussianBlur(gray, (5, 5), 0)\n",
    "    \n",
    "    # Passo 3: Aplicar limiarização para segmentação\n",
    "    _, thresh = cv2.threshold(blur, 127, 255, cv2.THRESH_BINARY_INV + cv2.THRESH_OTSU)\n",
    "    \n",
    "    # Passo 4: Refinamento com operações morfológicas\n",
    "    kernel = np.ones((3, 3), np.uint8)\n",
    "    morphed = cv2.morphologyEx(thresh, cv2.MORPH_CLOSE, kernel, iterations=2)\n",
    "    \n",
    "    # Passo 5: Identificar contornos e criar máscara\n",
    "    contours, _ = cv2.findContours(morphed, cv2.RETR_EXTERNAL, cv2.CHAIN_APPROX_SIMPLE)\n",
    "    mask = np.zeros_like(gray)\n",
    "    cv2.drawContours(mask, contours, -1, (255), thickness=cv2.FILLED)\n",
    "    \n",
    "    # Passo 6: Aplicar a máscara para remover o fundo\n",
    "    resultado = cv2.bitwise_and(imagem, imagem, mask=mask)\n",
    "    \n",
    "    return resultado\n"
   ]
  },
  {
   "cell_type": "code",
   "execution_count": 31,
   "metadata": {},
   "outputs": [
    {
     "name": "stdout",
     "output_type": "stream",
     "text": [
      "Imagem stockvault-barn-owl116738.jpg processada e salva em resultados/processada_stockvault-barn-owl116738.jpg\n",
      "Imagem stockvault-blue-peacock151244.jpg processada e salva em resultados/processada_stockvault-blue-peacock151244.jpg\n",
      "Imagem stockvault-bulb128619.jpg processada e salva em resultados/processada_stockvault-bulb128619.jpg\n",
      "Imagem stockvault-purple-flower-in-bloom199928.jpg processada e salva em resultados/processada_stockvault-purple-flower-in-bloom199928.jpg\n",
      "Imagem stockvault-sharks-2118299.jpg processada e salva em resultados/processada_stockvault-sharks-2118299.jpg\n",
      "Imagem stockvault-sun-flowers114982.jpg processada e salva em resultados/processada_stockvault-sun-flowers114982.jpg\n",
      "Imagem stockvault-young-man-watching-the-sunrise-at-rocky-beach222499.jpg processada e salva em resultados/processada_stockvault-young-man-watching-the-sunrise-at-rocky-beach222499.jpg\n"
     ]
    }
   ],
   "source": [
    "\n",
    "# Função principal para processar imagens no diretório\n",
    "def processar_imagens():\n",
    "    # Verificar se o diretório de saída existe, se não, cria\n",
    "    if not os.path.exists(output_dir):\n",
    "        os.makedirs(output_dir)\n",
    "    \n",
    "    # Processar cada imagem no diretório de entrada\n",
    "    for filename in os.listdir(input_dir):\n",
    "        if filename.endswith('.jpg') or filename.endswith('.png'):\n",
    "            # Carregar a imagem\n",
    "            img_path = os.path.join(input_dir, filename)\n",
    "            imagem = cv2.imread(img_path)\n",
    "            \n",
    "            # Remover o fundo\n",
    "            imagem_processada = remover_fundo(imagem)\n",
    "            \n",
    "            # Salvar a imagem resultante no diretório de saída\n",
    "            output_path = os.path.join(output_dir, f'processada_{filename}')\n",
    "            cv2.imwrite(output_path, imagem_processada)\n",
    "            \n",
    "            print(f'Imagem {filename} processada e salva em {output_path}')\n"
   ]
  },
  {
   "cell_type": "code",
   "execution_count": 32,
   "metadata": {},
   "outputs": [
    {
     "name": "stdout",
     "output_type": "stream",
     "text": [
      "Imagem stockvault-barn-owl116738.jpg processada e salva em resultados/processada_stockvault-barn-owl116738.jpg\n",
      "Imagem stockvault-blue-peacock151244.jpg processada e salva em resultados/processada_stockvault-blue-peacock151244.jpg\n",
      "Imagem stockvault-bulb128619.jpg processada e salva em resultados/processada_stockvault-bulb128619.jpg\n",
      "Imagem stockvault-purple-flower-in-bloom199928.jpg processada e salva em resultados/processada_stockvault-purple-flower-in-bloom199928.jpg\n",
      "Imagem stockvault-sharks-2118299.jpg processada e salva em resultados/processada_stockvault-sharks-2118299.jpg\n",
      "Imagem stockvault-sun-flowers114982.jpg processada e salva em resultados/processada_stockvault-sun-flowers114982.jpg\n",
      "Imagem stockvault-young-man-watching-the-sunrise-at-rocky-beach222499.jpg processada e salva em resultados/processada_stockvault-young-man-watching-the-sunrise-at-rocky-beach222499.jpg\n"
     ]
    }
   ],
   "source": [
    "# Executando o código\n",
    "if __name__ == \"__main__\":\n",
    "    processar_imagens()\n"
   ]
  },
  {
   "cell_type": "code",
   "execution_count": null,
   "metadata": {},
   "outputs": [],
   "source": []
  },
  {
   "cell_type": "code",
   "execution_count": null,
   "metadata": {},
   "outputs": [],
   "source": []
  },
  {
   "cell_type": "code",
   "execution_count": null,
   "metadata": {},
   "outputs": [],
   "source": []
  },
  {
   "cell_type": "code",
   "execution_count": null,
   "metadata": {},
   "outputs": [],
   "source": []
  }
 ],
 "metadata": {
  "kernelspec": {
   "display_name": "tf_env",
   "language": "python",
   "name": "python3"
  },
  "language_info": {
   "codemirror_mode": {
    "name": "ipython",
    "version": 3
   },
   "file_extension": ".py",
   "mimetype": "text/x-python",
   "name": "python",
   "nbconvert_exporter": "python",
   "pygments_lexer": "ipython3",
   "version": "3.8.0"
  }
 },
 "nbformat": 4,
 "nbformat_minor": 2
}
